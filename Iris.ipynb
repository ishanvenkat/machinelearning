{
  "cells": [
    {
      "cell_type": "markdown",
      "metadata": {
        "id": "AGCQUuAQLk3g"
      },
      "source": [
        "<h1> Iris </h1>\n",
        "\n",
        "The dataset contains the sepal and petal length and width of Iris flowers of three different species: Iris setosa, Iris versicolor, and Iris virginica. The goal is to predict the species given the sepal and petal length and width."
      ]
    },
    {
      "cell_type": "markdown",
      "metadata": {
        "id": "sk4p6Y1XLk3i"
      },
      "source": [
        "<h2 style=\"background-color:rgba(100,100,100,0.5);\"> Frame the problem </h2>\n",
        "\n",
        "Iris species predictor is clearly a typical supervised learning task, since you are given labeled training examples.\n",
        "\n",
        "It is also a typical classification task, since you are asked to classify the species of flower.\n",
        "\n",
        "Finally, there is no continuous flow of data coming into the system, there is no particular need to adjust to changing data rapidly, and the data is small enough to fit in memory, so plain batch learning should do just fine."
      ]
    },
    {
      "cell_type": "markdown",
      "metadata": {
        "id": "iR8kRD-JLk3j"
      },
      "source": [
        "<h2 style=\"background-color:rgba(100,100,100,0.5);\"> Fetch and load data </h2>\n"
      ]
    },
    {
      "cell_type": "code",
      "execution_count": 1,
      "metadata": {
        "colab": {
          "base_uri": "https://localhost:8080/"
        },
        "id": "PK0I47ASLk3j",
        "outputId": "2bad37fb-9b1c-4628-84ff-b2607f4dc475"
      },
      "outputs": [
        {
          "output_type": "execute_result",
          "data": {
            "text/plain": [
              "dict_keys(['data', 'target', 'frame', 'categories', 'feature_names', 'target_names', 'DESCR', 'details', 'url'])"
            ]
          },
          "metadata": {},
          "execution_count": 1
        }
      ],
      "source": [
        "from sklearn.datasets import fetch_openml\n",
        "\n",
        "# Fetch the data\n",
        "# as_Frame=True will fetch data as pandas dataframe\n",
        "# as_Frame=False will fetch data as array\n",
        "iris = fetch_openml('iris', version=1, as_frame=True, parser='auto')\n",
        "iris.keys()"
      ]
    },
    {
      "cell_type": "markdown",
      "metadata": {
        "id": "u76sWranLk3k"
      },
      "source": [
        "<h2 style=\"background-color:rgba(100,100,100,0.5);\"> Analyze the data and its structure </h2>"
      ]
    },
    {
      "cell_type": "code",
      "execution_count": 2,
      "metadata": {
        "colab": {
          "base_uri": "https://localhost:8080/"
        },
        "id": "80mleOrZLk3k",
        "outputId": "a3ec2a50-6da7-4a3c-fd84-9d0cd6868c75"
      },
      "outputs": [
        {
          "output_type": "stream",
          "name": "stdout",
          "text": [
            "(150, 4)\n",
            "(150,)\n",
            "   sepallength  sepalwidth  petallength  petalwidth\n",
            "0          5.1         3.5          1.4         0.2\n",
            "1          4.9         3.0          1.4         0.2\n",
            "2          4.7         3.2          1.3         0.2\n",
            "3          4.6         3.1          1.5         0.2\n",
            "4          5.0         3.6          1.4         0.2\n",
            "0    Iris-setosa\n",
            "1    Iris-setosa\n",
            "2    Iris-setosa\n",
            "3    Iris-setosa\n",
            "4    Iris-setosa\n",
            "Name: class, dtype: category\n",
            "Categories (3, object): ['Iris-setosa', 'Iris-versicolor', 'Iris-virginica']\n",
            "<class 'pandas.core.frame.DataFrame'>\n",
            "RangeIndex: 150 entries, 0 to 149\n",
            "Data columns (total 4 columns):\n",
            " #   Column       Non-Null Count  Dtype  \n",
            "---  ------       --------------  -----  \n",
            " 0   sepallength  150 non-null    float64\n",
            " 1   sepalwidth   150 non-null    float64\n",
            " 2   petallength  150 non-null    float64\n",
            " 3   petalwidth   150 non-null    float64\n",
            "dtypes: float64(4)\n",
            "memory usage: 4.8 KB\n",
            "None\n",
            "sepallength    0.0\n",
            "sepalwidth     0.0\n",
            "petallength    0.0\n",
            "petalwidth     0.0\n",
            "dtype: float64\n",
            "Index(['Iris-setosa', 'Iris-versicolor', 'Iris-virginica'], dtype='object')\n"
          ]
        }
      ],
      "source": [
        "X, y = iris[\"data\"], iris[\"target\"]\n",
        "\n",
        "# Display shape\n",
        "print(X.shape)\n",
        "print(y.shape)\n",
        "\n",
        "# Display head\n",
        "print(X.head())\n",
        "print(y.head())\n",
        "\n",
        "# Display info\n",
        "print(X.info())\n",
        "\n",
        "# Display percentage of missing values for each attribute\n",
        "print(X.isnull().sum() / len(X) * 100)\n",
        "\n",
        "# Display the flower species categories\n",
        "print(y.cat.categories)"
      ]
    },
    {
      "cell_type": "markdown",
      "metadata": {
        "id": "qsqt9fiyLk3k"
      },
      "source": [
        "<h3><b>How many instances are there in the dataset</b></h3>\n",
        "\n",
        "There are 150 values in the data set, which is not very large.\n",
        "\n",
        "<h3><b>Are there missing values (non-null) for any attributes</b></h3>\n",
        "\n",
        ">Data cleaning will need to be done to address any missing values\n",
        "\n",
        "All the parameters - sepal length, sepal width, petal length and petal width do not have missing values.\n",
        "\n",
        "<h3><b>What are the numerical and categorical attributes</b></h3>\n",
        "\n",
        ">Categorical attributes will need to be mapped to numerical values (encoding)\n",
        "\n",
        "All the parameters - sepal length, sepal width, petal length and petal width are numerical attributes."
      ]
    },
    {
      "cell_type": "code",
      "execution_count": 3,
      "metadata": {
        "colab": {
          "base_uri": "https://localhost:8080/",
          "height": 300
        },
        "id": "YBnMtJAmLk3l",
        "outputId": "ae5b270e-0c27-481a-ecfa-eb5756fe2d84"
      },
      "outputs": [
        {
          "output_type": "execute_result",
          "data": {
            "text/plain": [
              "       sepallength  sepalwidth  petallength  petalwidth\n",
              "count   150.000000  150.000000   150.000000  150.000000\n",
              "mean      5.843333    3.054000     3.758667    1.198667\n",
              "std       0.828066    0.433594     1.764420    0.763161\n",
              "min       4.300000    2.000000     1.000000    0.100000\n",
              "25%       5.100000    2.800000     1.600000    0.300000\n",
              "50%       5.800000    3.000000     4.350000    1.300000\n",
              "75%       6.400000    3.300000     5.100000    1.800000\n",
              "max       7.900000    4.400000     6.900000    2.500000"
            ],
            "text/html": [
              "\n",
              "  <div id=\"df-c6fda79a-3302-4721-90ae-b615ac11c14d\" class=\"colab-df-container\">\n",
              "    <div>\n",
              "<style scoped>\n",
              "    .dataframe tbody tr th:only-of-type {\n",
              "        vertical-align: middle;\n",
              "    }\n",
              "\n",
              "    .dataframe tbody tr th {\n",
              "        vertical-align: top;\n",
              "    }\n",
              "\n",
              "    .dataframe thead th {\n",
              "        text-align: right;\n",
              "    }\n",
              "</style>\n",
              "<table border=\"1\" class=\"dataframe\">\n",
              "  <thead>\n",
              "    <tr style=\"text-align: right;\">\n",
              "      <th></th>\n",
              "      <th>sepallength</th>\n",
              "      <th>sepalwidth</th>\n",
              "      <th>petallength</th>\n",
              "      <th>petalwidth</th>\n",
              "    </tr>\n",
              "  </thead>\n",
              "  <tbody>\n",
              "    <tr>\n",
              "      <th>count</th>\n",
              "      <td>150.000000</td>\n",
              "      <td>150.000000</td>\n",
              "      <td>150.000000</td>\n",
              "      <td>150.000000</td>\n",
              "    </tr>\n",
              "    <tr>\n",
              "      <th>mean</th>\n",
              "      <td>5.843333</td>\n",
              "      <td>3.054000</td>\n",
              "      <td>3.758667</td>\n",
              "      <td>1.198667</td>\n",
              "    </tr>\n",
              "    <tr>\n",
              "      <th>std</th>\n",
              "      <td>0.828066</td>\n",
              "      <td>0.433594</td>\n",
              "      <td>1.764420</td>\n",
              "      <td>0.763161</td>\n",
              "    </tr>\n",
              "    <tr>\n",
              "      <th>min</th>\n",
              "      <td>4.300000</td>\n",
              "      <td>2.000000</td>\n",
              "      <td>1.000000</td>\n",
              "      <td>0.100000</td>\n",
              "    </tr>\n",
              "    <tr>\n",
              "      <th>25%</th>\n",
              "      <td>5.100000</td>\n",
              "      <td>2.800000</td>\n",
              "      <td>1.600000</td>\n",
              "      <td>0.300000</td>\n",
              "    </tr>\n",
              "    <tr>\n",
              "      <th>50%</th>\n",
              "      <td>5.800000</td>\n",
              "      <td>3.000000</td>\n",
              "      <td>4.350000</td>\n",
              "      <td>1.300000</td>\n",
              "    </tr>\n",
              "    <tr>\n",
              "      <th>75%</th>\n",
              "      <td>6.400000</td>\n",
              "      <td>3.300000</td>\n",
              "      <td>5.100000</td>\n",
              "      <td>1.800000</td>\n",
              "    </tr>\n",
              "    <tr>\n",
              "      <th>max</th>\n",
              "      <td>7.900000</td>\n",
              "      <td>4.400000</td>\n",
              "      <td>6.900000</td>\n",
              "      <td>2.500000</td>\n",
              "    </tr>\n",
              "  </tbody>\n",
              "</table>\n",
              "</div>\n",
              "    <div class=\"colab-df-buttons\">\n",
              "\n",
              "  <div class=\"colab-df-container\">\n",
              "    <button class=\"colab-df-convert\" onclick=\"convertToInteractive('df-c6fda79a-3302-4721-90ae-b615ac11c14d')\"\n",
              "            title=\"Convert this dataframe to an interactive table.\"\n",
              "            style=\"display:none;\">\n",
              "\n",
              "  <svg xmlns=\"http://www.w3.org/2000/svg\" height=\"24px\" viewBox=\"0 -960 960 960\">\n",
              "    <path d=\"M120-120v-720h720v720H120Zm60-500h600v-160H180v160Zm220 220h160v-160H400v160Zm0 220h160v-160H400v160ZM180-400h160v-160H180v160Zm440 0h160v-160H620v160ZM180-180h160v-160H180v160Zm440 0h160v-160H620v160Z\"/>\n",
              "  </svg>\n",
              "    </button>\n",
              "\n",
              "  <style>\n",
              "    .colab-df-container {\n",
              "      display:flex;\n",
              "      gap: 12px;\n",
              "    }\n",
              "\n",
              "    .colab-df-convert {\n",
              "      background-color: #E8F0FE;\n",
              "      border: none;\n",
              "      border-radius: 50%;\n",
              "      cursor: pointer;\n",
              "      display: none;\n",
              "      fill: #1967D2;\n",
              "      height: 32px;\n",
              "      padding: 0 0 0 0;\n",
              "      width: 32px;\n",
              "    }\n",
              "\n",
              "    .colab-df-convert:hover {\n",
              "      background-color: #E2EBFA;\n",
              "      box-shadow: 0px 1px 2px rgba(60, 64, 67, 0.3), 0px 1px 3px 1px rgba(60, 64, 67, 0.15);\n",
              "      fill: #174EA6;\n",
              "    }\n",
              "\n",
              "    .colab-df-buttons div {\n",
              "      margin-bottom: 4px;\n",
              "    }\n",
              "\n",
              "    [theme=dark] .colab-df-convert {\n",
              "      background-color: #3B4455;\n",
              "      fill: #D2E3FC;\n",
              "    }\n",
              "\n",
              "    [theme=dark] .colab-df-convert:hover {\n",
              "      background-color: #434B5C;\n",
              "      box-shadow: 0px 1px 3px 1px rgba(0, 0, 0, 0.15);\n",
              "      filter: drop-shadow(0px 1px 2px rgba(0, 0, 0, 0.3));\n",
              "      fill: #FFFFFF;\n",
              "    }\n",
              "  </style>\n",
              "\n",
              "    <script>\n",
              "      const buttonEl =\n",
              "        document.querySelector('#df-c6fda79a-3302-4721-90ae-b615ac11c14d button.colab-df-convert');\n",
              "      buttonEl.style.display =\n",
              "        google.colab.kernel.accessAllowed ? 'block' : 'none';\n",
              "\n",
              "      async function convertToInteractive(key) {\n",
              "        const element = document.querySelector('#df-c6fda79a-3302-4721-90ae-b615ac11c14d');\n",
              "        const dataTable =\n",
              "          await google.colab.kernel.invokeFunction('convertToInteractive',\n",
              "                                                    [key], {});\n",
              "        if (!dataTable) return;\n",
              "\n",
              "        const docLinkHtml = 'Like what you see? Visit the ' +\n",
              "          '<a target=\"_blank\" href=https://colab.research.google.com/notebooks/data_table.ipynb>data table notebook</a>'\n",
              "          + ' to learn more about interactive tables.';\n",
              "        element.innerHTML = '';\n",
              "        dataTable['output_type'] = 'display_data';\n",
              "        await google.colab.output.renderOutput(dataTable, element);\n",
              "        const docLink = document.createElement('div');\n",
              "        docLink.innerHTML = docLinkHtml;\n",
              "        element.appendChild(docLink);\n",
              "      }\n",
              "    </script>\n",
              "  </div>\n",
              "\n",
              "\n",
              "<div id=\"df-e9987c5d-ac93-4940-a263-6ea33b9921cd\">\n",
              "  <button class=\"colab-df-quickchart\" onclick=\"quickchart('df-e9987c5d-ac93-4940-a263-6ea33b9921cd')\"\n",
              "            title=\"Suggest charts\"\n",
              "            style=\"display:none;\">\n",
              "\n",
              "<svg xmlns=\"http://www.w3.org/2000/svg\" height=\"24px\"viewBox=\"0 0 24 24\"\n",
              "     width=\"24px\">\n",
              "    <g>\n",
              "        <path d=\"M19 3H5c-1.1 0-2 .9-2 2v14c0 1.1.9 2 2 2h14c1.1 0 2-.9 2-2V5c0-1.1-.9-2-2-2zM9 17H7v-7h2v7zm4 0h-2V7h2v10zm4 0h-2v-4h2v4z\"/>\n",
              "    </g>\n",
              "</svg>\n",
              "  </button>\n",
              "\n",
              "<style>\n",
              "  .colab-df-quickchart {\n",
              "      --bg-color: #E8F0FE;\n",
              "      --fill-color: #1967D2;\n",
              "      --hover-bg-color: #E2EBFA;\n",
              "      --hover-fill-color: #174EA6;\n",
              "      --disabled-fill-color: #AAA;\n",
              "      --disabled-bg-color: #DDD;\n",
              "  }\n",
              "\n",
              "  [theme=dark] .colab-df-quickchart {\n",
              "      --bg-color: #3B4455;\n",
              "      --fill-color: #D2E3FC;\n",
              "      --hover-bg-color: #434B5C;\n",
              "      --hover-fill-color: #FFFFFF;\n",
              "      --disabled-bg-color: #3B4455;\n",
              "      --disabled-fill-color: #666;\n",
              "  }\n",
              "\n",
              "  .colab-df-quickchart {\n",
              "    background-color: var(--bg-color);\n",
              "    border: none;\n",
              "    border-radius: 50%;\n",
              "    cursor: pointer;\n",
              "    display: none;\n",
              "    fill: var(--fill-color);\n",
              "    height: 32px;\n",
              "    padding: 0;\n",
              "    width: 32px;\n",
              "  }\n",
              "\n",
              "  .colab-df-quickchart:hover {\n",
              "    background-color: var(--hover-bg-color);\n",
              "    box-shadow: 0 1px 2px rgba(60, 64, 67, 0.3), 0 1px 3px 1px rgba(60, 64, 67, 0.15);\n",
              "    fill: var(--button-hover-fill-color);\n",
              "  }\n",
              "\n",
              "  .colab-df-quickchart-complete:disabled,\n",
              "  .colab-df-quickchart-complete:disabled:hover {\n",
              "    background-color: var(--disabled-bg-color);\n",
              "    fill: var(--disabled-fill-color);\n",
              "    box-shadow: none;\n",
              "  }\n",
              "\n",
              "  .colab-df-spinner {\n",
              "    border: 2px solid var(--fill-color);\n",
              "    border-color: transparent;\n",
              "    border-bottom-color: var(--fill-color);\n",
              "    animation:\n",
              "      spin 1s steps(1) infinite;\n",
              "  }\n",
              "\n",
              "  @keyframes spin {\n",
              "    0% {\n",
              "      border-color: transparent;\n",
              "      border-bottom-color: var(--fill-color);\n",
              "      border-left-color: var(--fill-color);\n",
              "    }\n",
              "    20% {\n",
              "      border-color: transparent;\n",
              "      border-left-color: var(--fill-color);\n",
              "      border-top-color: var(--fill-color);\n",
              "    }\n",
              "    30% {\n",
              "      border-color: transparent;\n",
              "      border-left-color: var(--fill-color);\n",
              "      border-top-color: var(--fill-color);\n",
              "      border-right-color: var(--fill-color);\n",
              "    }\n",
              "    40% {\n",
              "      border-color: transparent;\n",
              "      border-right-color: var(--fill-color);\n",
              "      border-top-color: var(--fill-color);\n",
              "    }\n",
              "    60% {\n",
              "      border-color: transparent;\n",
              "      border-right-color: var(--fill-color);\n",
              "    }\n",
              "    80% {\n",
              "      border-color: transparent;\n",
              "      border-right-color: var(--fill-color);\n",
              "      border-bottom-color: var(--fill-color);\n",
              "    }\n",
              "    90% {\n",
              "      border-color: transparent;\n",
              "      border-bottom-color: var(--fill-color);\n",
              "    }\n",
              "  }\n",
              "</style>\n",
              "\n",
              "  <script>\n",
              "    async function quickchart(key) {\n",
              "      const quickchartButtonEl =\n",
              "        document.querySelector('#' + key + ' button');\n",
              "      quickchartButtonEl.disabled = true;  // To prevent multiple clicks.\n",
              "      quickchartButtonEl.classList.add('colab-df-spinner');\n",
              "      try {\n",
              "        const charts = await google.colab.kernel.invokeFunction(\n",
              "            'suggestCharts', [key], {});\n",
              "      } catch (error) {\n",
              "        console.error('Error during call to suggestCharts:', error);\n",
              "      }\n",
              "      quickchartButtonEl.classList.remove('colab-df-spinner');\n",
              "      quickchartButtonEl.classList.add('colab-df-quickchart-complete');\n",
              "    }\n",
              "    (() => {\n",
              "      let quickchartButtonEl =\n",
              "        document.querySelector('#df-e9987c5d-ac93-4940-a263-6ea33b9921cd button');\n",
              "      quickchartButtonEl.style.display =\n",
              "        google.colab.kernel.accessAllowed ? 'block' : 'none';\n",
              "    })();\n",
              "  </script>\n",
              "</div>\n",
              "\n",
              "    </div>\n",
              "  </div>\n"
            ],
            "application/vnd.google.colaboratory.intrinsic+json": {
              "type": "dataframe",
              "summary": "{\n  \"name\": \"X\",\n  \"rows\": 8,\n  \"fields\": [\n    {\n      \"column\": \"sepallength\",\n      \"properties\": {\n        \"dtype\": \"number\",\n        \"std\": 51.24711349471842,\n        \"min\": 0.828066127977863,\n        \"max\": 150.0,\n        \"num_unique_values\": 8,\n        \"samples\": [\n          5.843333333333334,\n          5.8,\n          150.0\n        ],\n        \"semantic_type\": \"\",\n        \"description\": \"\"\n      }\n    },\n    {\n      \"column\": \"sepalwidth\",\n      \"properties\": {\n        \"dtype\": \"number\",\n        \"std\": 52.08647211421483,\n        \"min\": 0.4335943113621737,\n        \"max\": 150.0,\n        \"num_unique_values\": 8,\n        \"samples\": [\n          3.0540000000000003,\n          3.0,\n          150.0\n        ],\n        \"semantic_type\": \"\",\n        \"description\": \"\"\n      }\n    },\n    {\n      \"column\": \"petallength\",\n      \"properties\": {\n        \"dtype\": \"number\",\n        \"std\": 51.835227940958106,\n        \"min\": 1.0,\n        \"max\": 150.0,\n        \"num_unique_values\": 8,\n        \"samples\": [\n          3.758666666666666,\n          4.35,\n          150.0\n        ],\n        \"semantic_type\": \"\",\n        \"description\": \"\"\n      }\n    },\n    {\n      \"column\": \"petalwidth\",\n      \"properties\": {\n        \"dtype\": \"number\",\n        \"std\": 52.636634243409915,\n        \"min\": 0.1,\n        \"max\": 150.0,\n        \"num_unique_values\": 8,\n        \"samples\": [\n          1.1986666666666668,\n          1.3,\n          150.0\n        ],\n        \"semantic_type\": \"\",\n        \"description\": \"\"\n      }\n    }\n  ]\n}"
            }
          },
          "metadata": {},
          "execution_count": 3
        }
      ],
      "source": [
        "X.describe()"
      ]
    },
    {
      "cell_type": "markdown",
      "metadata": {
        "id": "-4vxHf8kLk3l"
      },
      "source": [
        "<h3><b> Preview the center and dispersion of the features </b></h3>\n",
        "\n",
        "The above values show the center and dispersion of the features."
      ]
    },
    {
      "cell_type": "code",
      "execution_count": 4,
      "metadata": {
        "colab": {
          "base_uri": "https://localhost:8080/",
          "height": 1000
        },
        "id": "DfkJyTE7Lk3l",
        "outputId": "e9786e8f-6a28-4b5c-e7bf-814312bc5ed0"
      },
      "outputs": [
        {
          "output_type": "display_data",
          "data": {
            "text/plain": [
              "<Figure size 2000x1500 with 4 Axes>"
            ],
            "image/png": "[encoded data removed]"
          },
          "metadata": {}
        }
      ],
      "source": [
        "%matplotlib inline\n",
        "import matplotlib.pyplot as plt\n",
        "X.hist(bins=50, figsize=(20, 15))\n",
        "plt.show()"
      ]
    },
    {
      "cell_type": "markdown",
      "metadata": {
        "id": "ShYtJiMsLk3l"
      },
      "source": [
        "<h3><b>Plot the distributions for the features</b></h3>\n",
        "\n",
        "The three keys to describing the distributions are shape, center, and spread.\n",
        "Consider clusters, gaps, modes, and outliers.\n",
        "Look for reasons behind any unusual features.\n",
        "\n",
        "Shape:\n",
        ">A few common shapes are symmetric, skewed to the right, skewed to the left, bell-shaped, and uniform distributions. Consider transforming tail-heavy distributions to be more bell-shaped.\n",
        "\n",
        "Spread:\n",
        ">Check whether the end values in the range have been capped. For these capped values, either collect actual values to replace the capped values or remove the values from the dataset (The system should not be evaluated poorly if it predicts values beyond the capped values).\n",
        "\n",
        ">Understand the units for each distribution, whether any scaling has been applied. Consider apply feature scaling for features with different scales (Machine Learning algorithms usually don’t perform well when the input numerical attributes have very different scales).\n",
        "\n",
        "The sepal width seems to show the expected normal distribution. The other distributions are interesting in that some seem to be bi-modal, there are no values that seem to be capped."
      ]
    },
    {
      "cell_type": "code",
      "execution_count": 5,
      "metadata": {
        "colab": {
          "base_uri": "https://localhost:8080/",
          "height": 430
        },
        "id": "_F8J8rdGLk3v",
        "outputId": "e1f50db5-8745-4986-e73e-9e62d31a01a6"
      },
      "outputs": [
        {
          "output_type": "display_data",
          "data": {
            "text/plain": [
              "<Figure size 640x480 with 1 Axes>"
            ],
            "image/png": "[encoded data removed]"
          },
          "metadata": {}
        }
      ],
      "source": [
        "%matplotlib inline\n",
        "import matplotlib.pyplot as plt\n",
        "import numpy as np\n",
        "import pandas as pd\n",
        "\n",
        "# Create a pandas series with numbers instead of string ('0', '1')\n",
        "# Most ML algorithms expect numbers, not strings\n",
        "y = y.cat.codes.astype(np.uint8)\n",
        "y.hist()\n",
        "plt.show()"
      ]
    },
    {
      "cell_type": "markdown",
      "metadata": {
        "id": "e_sVTBmULk3v"
      },
      "source": [
        "Although there is not much in interpreting the output distribution, it is interesting that all the flower species are equally represented."
      ]
    },
    {
      "cell_type": "markdown",
      "metadata": {
        "id": "6ye2XiAsLk3v"
      },
      "source": [
        "<h2 style=\"background-color:rgba(100,100,100,0.5);\"> Sample the data for testing and training purposes </h2>\n",
        "\n",
        "Scikit-Learn provides a few functions to split datasets into multiple subsets in various ways. The simplest function is train_test_split(), we'll use this with the random_state parameter. Also, since this function can accept multiple datasets with an identical number of rows, and it will split them on the same indices, we can use it to split both the data and target (we'll use stratify on the target so the test and training data will have similar distribution for the target as the original data)."
      ]
    },
    {
      "cell_type": "code",
      "execution_count": 6,
      "metadata": {
        "id": "8b4eJD_rLk3v"
      },
      "outputs": [],
      "source": [
        "from sklearn.model_selection import train_test_split\n",
        "\n",
        "X_train, X_test, y_train, y_test = train_test_split(X, y, stratify=y, test_size=0.2)"
      ]
    },
    {
      "cell_type": "markdown",
      "metadata": {
        "id": "eN4FgGgGLk3v"
      },
      "source": [
        "<h2 style=\"background-color:rgba(100,100,100,0.5);\"> Discover and visualize the data to gain insights </h2>"
      ]
    },
    {
      "cell_type": "markdown",
      "metadata": {
        "id": "yGZb9DFvLk3w"
      },
      "source": [
        "There is no additional value that we can get from attribute transformation, so we can skip this step for this problem."
      ]
    },
    {
      "cell_type": "markdown",
      "metadata": {
        "id": "sXHhZgRNLk3w"
      },
      "source": [
        "<h2 style=\"background-color:rgba(100,100,100,0.5);\"> Prepare the Data for Machine Learning Algorithms </h2>\n",
        "\n",
        "Data cleaning is not required for this data set to clean up missing attributes.\n",
        "\n",
        "Custom transformation is not needed for this data set.\n",
        "\n",
        "Feature scaling can be useful to improve the performance of the models."
      ]
    },
    {
      "cell_type": "markdown",
      "metadata": {
        "id": "EcOUTBp3Lk3w"
      },
      "source": [
        "Ffirst let’s revert to a clean training set (by copying X_train once again):"
      ]
    },
    {
      "cell_type": "code",
      "execution_count": 7,
      "metadata": {
        "id": "i65zw-wVLk3w"
      },
      "outputs": [],
      "source": [
        "iris = X_train.copy()"
      ]
    },
    {
      "cell_type": "markdown",
      "metadata": {
        "id": "gCxowoKbLk3w"
      },
      "source": [
        "<h3><b> Data Cleaning - Missing attributes </b></h3>"
      ]
    },
    {
      "cell_type": "markdown",
      "metadata": {
        "id": "ybgJeF9GLk3w"
      },
      "source": [
        "Data cleaning is not required for this data set to clean up missing attributes."
      ]
    },
    {
      "cell_type": "markdown",
      "metadata": {
        "id": "MP6abHzLLk3w"
      },
      "source": [
        "<h3><b> Data Cleaning - Handling text and categorical attributes </b></h3>\n",
        "\n",
        "Custom transformation is not needed for this data set."
      ]
    },
    {
      "cell_type": "markdown",
      "metadata": {
        "id": "UwYpviWGLk3w"
      },
      "source": [
        "<h3><b> Feature Scaling </b></h3>\n",
        "\n",
        "One of the most important transformations you need to apply to your data is feature scaling.\n",
        "\n",
        "For this, we will use the scaler directly in the pipeline later to scale these values."
      ]
    },
    {
      "cell_type": "markdown",
      "metadata": {
        "id": "dR6ikFlQLk3w"
      },
      "source": [
        "<h3><b> Custom Transformers </b></h3>\n",
        "\n",
        "Custom transformers are not needed for this data set."
      ]
    },
    {
      "cell_type": "markdown",
      "metadata": {
        "id": "cnSydk--Lk3x"
      },
      "source": [
        "<h3><b> Transformation Pipelines </b></h3>\n",
        "\n",
        "Scikit-Learn provides the Pipeline class to help with sequences of transformations.\n",
        "\n",
        "Pipeline for numerical attributes:"
      ]
    },
    {
      "cell_type": "code",
      "execution_count": 8,
      "metadata": {
        "id": "hx9chin3Lk3x"
      },
      "outputs": [],
      "source": [
        "from sklearn.pipeline import Pipeline\n",
        "from sklearn.preprocessing import RobustScaler\n",
        "\n",
        "num_pipeline = Pipeline([\n",
        "    ('robust_scaler', RobustScaler())\n",
        "])\n",
        "\n",
        "iris_prepared = num_pipeline.fit_transform(iris)"
      ]
    },
    {
      "cell_type": "markdown",
      "metadata": {
        "id": "ih5RLFUiLk3x"
      },
      "source": [
        "<h2 style=\"background-color:rgba(100,100,100,0.5);\"> Select and Train Models </h2>\n",
        "\n",
        "Select a model that you think might work best first. Train and evaluate the performance of this model. The model might fit correctly, underfit or overfit the actual data.\n",
        "\n",
        "The general approach when a particular model doesn't quite fit perfectly, is to try out many other models from various categories of Machine Learning algorithms (e.g., several Support Vector Machines with different kernels, and possibly a neural network), without spending too much time tweaking the hyperparameters for a particular model.\n",
        "\n",
        "The goal is to shortlist a few (two to five) promising models.\n"
      ]
    },
    {
      "cell_type": "markdown",
      "metadata": {
        "id": "PfAZ9CX5Lk3x"
      },
      "source": [
        "<h3><b> Training and Evaluating on the Training Set </b></h3>\n",
        "\n",
        "Select a model to train and evaluate on the data set.\n",
        "\n",
        "Let’s simplify the problem for now and only try to identify one species—for example, 'Iris-setosa'. This will be an example of a binary classifier, capable of distinguishing between just two classes, 'Iris-setosa' and not-'Iris-setosa'. Let’s create the target vectors for this classification task:"
      ]
    },
    {
      "cell_type": "code",
      "execution_count": 9,
      "metadata": {
        "id": "UlQSNqGiLk3x"
      },
      "outputs": [],
      "source": [
        "y_train_setosa = (y_train == 0)  # True for all Iris-setosas, False for all other species\n",
        "y_test_setosa = (y_test == 0)"
      ]
    },
    {
      "cell_type": "markdown",
      "metadata": {
        "id": "coJcB07-Lk3x"
      },
      "source": [
        "Let's first use the RandomForestClassifier."
      ]
    },
    {
      "cell_type": "markdown",
      "metadata": {
        "id": "-2FR7YjOLk3x"
      },
      "source": [
        "<h3><b> Predict values for some data inputs </b></h3>"
      ]
    },
    {
      "cell_type": "code",
      "execution_count": 10,
      "metadata": {
        "colab": {
          "base_uri": "https://localhost:8080/"
        },
        "id": "9GPgQD6DLk3y",
        "outputId": "328a8a75-7363-4b4c-f83e-d08f1d52fd63"
      },
      "outputs": [
        {
          "output_type": "stream",
          "name": "stdout",
          "text": [
            "[ True]\n",
            "42    True\n",
            "dtype: bool\n"
          ]
        }
      ],
      "source": [
        "from sklearn.ensemble import RandomForestClassifier\n",
        "\n",
        "forest_clf = RandomForestClassifier(random_state=42)\n",
        "\n",
        "forest_clf.fit(iris_prepared, y_train_setosa)\n",
        "\n",
        "print(forest_clf.predict(iris_prepared[:1]))\n",
        "print(y_train_setosa[:1]) # verify that the predicted value is correct"
      ]
    },
    {
      "cell_type": "markdown",
      "metadata": {
        "id": "SQGNkXfYLk3y"
      },
      "source": [
        "<h3><b> Measure the performance of the model on the whole training set </b></h3>\n",
        "\n",
        "Evaluating a classifier is often significantly trickier than evaluating a regressor. There are many performance measures available.\n",
        "\n",
        "One measure is Accurracy, let's use K-fold cross validation to measure the accurracy."
      ]
    },
    {
      "cell_type": "code",
      "execution_count": 11,
      "metadata": {
        "colab": {
          "base_uri": "https://localhost:8080/"
        },
        "id": "rH4tQcAKLk3y",
        "outputId": "9172c7c3-207e-4b24-90ec-c4b6863ad84c"
      },
      "outputs": [
        {
          "output_type": "execute_result",
          "data": {
            "text/plain": [
              "array([1., 1., 1.])"
            ]
          },
          "metadata": {},
          "execution_count": 11
        }
      ],
      "source": [
        "from sklearn.model_selection import cross_val_score\n",
        "\n",
        "cross_val_score(forest_clf, iris_prepared, y_train_setosa, cv=3, scoring=\"accuracy\")"
      ]
    },
    {
      "cell_type": "markdown",
      "metadata": {
        "id": "xuzhwI0JLk3y"
      },
      "source": [
        "After evaluating the models based on their ROC AUC score, precision and recall scores, we have to choose the most promising model. For the purposes of this example, let us assume that the Logistic Regression is the chosen model."
      ]
    },
    {
      "cell_type": "markdown",
      "metadata": {
        "id": "XvalkmZNLk3y"
      },
      "source": [
        "<h2 style=\"background-color:rgba(100,100,100,0.5);\"> Fine-Tune Your Model </h2>\n",
        "\n",
        "After shortlisting some promising models, you need to fine-tune the models."
      ]
    },
    {
      "cell_type": "markdown",
      "metadata": {
        "id": "o7mhYFCiLk3z"
      },
      "source": [
        "Grid Search\n",
        "One option would be to fiddle with the hyperparameters manually, until you find a great combination of hyperparameter values. This would be very tedious work, and you may not have time to explore many combinations.\n",
        "\n",
        "Instead, you should get Scikit-Learn’s GridSearchCV to search for you. All you need to do is tell it which hyperparameters you want it to experiment with and what values to try out, and it will use cross-validation to evaluate all the possible combinations of hyperparameter values.\n",
        "\n",
        "For example, the following code searches for the best combination of hyperparameter values for the Logistic Regression classifier."
      ]
    },
    {
      "cell_type": "code",
      "execution_count": 13,
      "metadata": {
        "colab": {
          "base_uri": "https://localhost:8080/"
        },
        "id": "E1wQbp4oLk3z",
        "outputId": "0a944dcf-ff39-486e-d28c-4da3051d0e0a"
      },
      "outputs": [
        {
          "output_type": "stream",
          "name": "stdout",
          "text": [
            "{'max_iter': 100, 'solver': 'newton-cg'}\n"
          ]
        }
      ],
      "source": [
        "from sklearn.model_selection import GridSearchCV\n",
        "\n",
        "from sklearn.linear_model import LogisticRegression\n",
        "\n",
        "log_clf = LogisticRegression()\n",
        "\n",
        "param_grid = [\n",
        "    {'max_iter': [100, 500, 1000],\n",
        "        'solver': ['newton-cg', 'lbfgs', 'liblinear', 'sag', 'saga'],\n",
        "    },\n",
        "]\n",
        "\n",
        "grid_search = GridSearchCV(log_clf, param_grid, cv=3)\n",
        "grid_search.fit(iris_prepared, y_train_setosa)\n",
        "\n",
        "print(grid_search.best_params_)"
      ]
    },
    {
      "cell_type": "markdown",
      "metadata": {
        "id": "4-Zy_QNILk3z"
      },
      "source": [
        "<h2 style=\"background-color:rgba(100,100,100,0.5);\"> Analyze the Best Models and Their Errors </h2>\n",
        "\n",
        "You will often gain good insights on the problem by inspecting the best models.\n",
        "\n",
        "First, look at the confusion matrix. You need to make predictions using the cross_val_predict() function, then call the confusion_matrix() function (for the default threshold value):"
      ]
    },
    {
      "cell_type": "code",
      "execution_count": 16,
      "metadata": {
        "colab": {
          "base_uri": "https://localhost:8080/"
        },
        "id": "fb1Q173gLk30",
        "outputId": "524eab4e-0aa7-4c64-f49a-4577e6df655f"
      },
      "outputs": [
        {
          "output_type": "stream",
          "name": "stdout",
          "text": [
            "[[80  0]\n",
            " [ 0 40]]\n"
          ]
        }
      ],
      "source": [
        "from sklearn.model_selection import cross_val_predict\n",
        "from sklearn.metrics import confusion_matrix\n",
        "\n",
        "log_clf = grid_search.best_estimator_\n",
        "\n",
        "y_train_pred = cross_val_predict(log_clf, iris_prepared, y_train_setosa, cv=3)\n",
        "conf_mx = confusion_matrix(y_train_setosa, y_train_pred)\n",
        "\n",
        "print(conf_mx)"
      ]
    },
    {
      "cell_type": "markdown",
      "metadata": {
        "id": "cybuuaprLk30"
      },
      "source": [
        "It’s often more convenient to look at an image representation of the confusion matrix, using Matplotlib’s matshow() function:"
      ]
    },
    {
      "cell_type": "code",
      "execution_count": 17,
      "metadata": {
        "colab": {
          "base_uri": "https://localhost:8080/",
          "height": 437
        },
        "id": "36stopv4Lk30",
        "outputId": "63d35cac-2717-4c05-e635-159a1e0a97ed"
      },
      "outputs": [
        {
          "output_type": "display_data",
          "data": {
            "text/plain": [
              "<Figure size 480x480 with 1 Axes>"
            ],
            "image/png": "[encoded data removed]"
          },
          "metadata": {}
        }
      ],
      "source": [
        "plt.matshow(conf_mx, cmap=plt.cm.gray)\n",
        "plt.show()"
      ]
    },
    {
      "cell_type": "markdown",
      "metadata": {
        "id": "zTXFuGVVLk30"
      },
      "source": [
        "A good confusion matrix will have most images on the main diagonal which means that they were classified correctly. The predictions for Iris-setosa look darker than the not survived, which could mean that there are fewer survived in the dataset or that the classifier does not perform as well on the Iris-setosa as on the non-Iris-setosa. In this particular case, it looks like that there are few in the dataset for the Iris-setosa species.\n",
        "\n",
        "Let’s focus the plot on the errors. First, you need to divide each value in the confusion matrix by the number of images in the corresponding class so that you can compare error rates instead of absolute numbers of errors (which would make abundant classes look unfairly bad), then fill the diagonal with zeros to keep only the errors, and plot the result."
      ]
    },
    {
      "cell_type": "code",
      "execution_count": 18,
      "metadata": {
        "colab": {
          "base_uri": "https://localhost:8080/",
          "height": 437
        },
        "id": "fxSofiIWLk30",
        "outputId": "db259213-150c-4ccb-a20b-1e4f0f94a68c"
      },
      "outputs": [
        {
          "output_type": "display_data",
          "data": {
            "text/plain": [
              "<Figure size 480x480 with 1 Axes>"
            ],
            "image/png": "[encoded data removed]"
          },
          "metadata": {}
        }
      ],
      "source": [
        "row_sums = conf_mx.sum(axis=1, keepdims=True)\n",
        "norm_conf_mx = conf_mx / row_sums\n",
        "\n",
        "np.fill_diagonal(norm_conf_mx, 0)\n",
        "plt.matshow(norm_conf_mx, cmap=plt.cm.gray)\n",
        "\n",
        "plt.show()"
      ]
    },
    {
      "cell_type": "markdown",
      "metadata": {
        "id": "LdrBsNgqLk31"
      },
      "source": [
        "The rows represent actual classes, while columns represent predicted classes.\n",
        "\n",
        "Analyzing the confusion matrix often gives you insights into ways to improve your classifier. Looking at this plot, it looks like there are no errors."
      ]
    },
    {
      "cell_type": "markdown",
      "metadata": {
        "id": "izlGNB5VLk31"
      },
      "source": [
        "<h2 style=\"background-color:rgba(100,100,100,0.5);\"> Evaluate Your System on the Test Set </h2>\n",
        "\n",
        "After tweaking your models for a while, you eventually have a system that performs sufficiently well. Now is the time to evaluate the final model on the test set.\n",
        "\n",
        "There is nothing special about this process; just get the predictors and the labels from your test set, run your full_pipeline to transform the data (call transform(), not fit_transform — you do not want to fit the test set!), and evaluate the final model on the test set.\n"
      ]
    },
    {
      "cell_type": "code",
      "execution_count": 19,
      "metadata": {
        "colab": {
          "base_uri": "https://localhost:8080/"
        },
        "id": "L5UrO6SXLk31",
        "outputId": "0287a8ae-9793-4a02-a91e-0701549801ef"
      },
      "outputs": [
        {
          "output_type": "stream",
          "name": "stdout",
          "text": [
            "              precision    recall  f1-score   support\n",
            "\n",
            "       False       1.00      1.00      1.00        20\n",
            "        True       1.00      1.00      1.00        10\n",
            "\n",
            "    accuracy                           1.00        30\n",
            "   macro avg       1.00      1.00      1.00        30\n",
            "weighted avg       1.00      1.00      1.00        30\n",
            "\n"
          ]
        }
      ],
      "source": [
        "from sklearn.metrics import classification_report\n",
        "\n",
        "final_model =  grid_search.best_estimator_\n",
        "\n",
        "X_test_prepared = num_pipeline.transform(X_test)\n",
        "y_test_pred = final_model.predict(X_test_prepared)\n",
        "\n",
        "print(classification_report(y_test_setosa, y_test_pred))"
      ]
    },
    {
      "cell_type": "markdown",
      "metadata": {
        "id": "zSxQrKRXLk31"
      },
      "source": [
        "<h2 style=\"background-color:rgba(100,100,100,0.5);\"> Multiclass Classification </h2>\n",
        "\n",
        "Whereas binary classifiers distinguish between two classes, multiclass classifiers (also called multinomial classifiers) can distinguish between more than two classes.\n",
        "\n",
        "Some algorithms (such as Logistic Regression classifiers, Random Forest classifiers, and naive Bayes classifiers) are capable of handling multiple classes natively. Others (such as SGD Classifiers or Support Vector Machine classifiers) are strictly binary classifiers (with strategies that you can use to perform multiclass classification with these multiple binary classifiers).\n",
        "\n",
        "Let's use SoftMax Regression (the multi-class version of the Logistic Regression classifier) first and then try out other models (e.g. binary classifiers with OvR and OvO strategies)."
      ]
    },
    {
      "cell_type": "markdown",
      "metadata": {
        "id": "fIeeGAVYLk31"
      },
      "source": [
        "<h3><b> Training and Evaluating on the Training Set </b></h3>\n",
        "\n",
        "Select a model to train and evaluate on the data set.\n",
        "\n",
        "Let’s use the Softmax Regression to train and predict.\n",
        "\n",
        "We can use the original target classes for all flower species - Iris-setosa, Iris-versicolor and Iris-virginica (y_train), instead of the Iris-setosa-versus-the-rest target classes (y_train_setosa) since we are now training for multiclass classification."
      ]
    },
    {
      "cell_type": "code",
      "execution_count": 20,
      "metadata": {
        "colab": {
          "base_uri": "https://localhost:8080/",
          "height": 75
        },
        "id": "AqcbY_KILk31",
        "outputId": "d1ebf6c4-fe21-467f-9aff-7fd6b5f1364b"
      },
      "outputs": [
        {
          "output_type": "execute_result",
          "data": {
            "text/plain": [
              "LogisticRegression(multi_class='multinomial')"
            ],
            "text/html": [
              "<style>#sk-container-id-1 {color: black;background-color: white;}#sk-container-id-1 pre{padding: 0;}#sk-container-id-1 div.sk-toggleable {background-color: white;}#sk-container-id-1 label.sk-toggleable__label {cursor: pointer;display: block;width: 100%;margin-bottom: 0;padding: 0.3em;box-sizing: border-box;text-align: center;}#sk-container-id-1 label.sk-toggleable__label-arrow:before {content: \"▸\";float: left;margin-right: 0.25em;color: #696969;}#sk-container-id-1 label.sk-toggleable__label-arrow:hover:before {color: black;}#sk-container-id-1 div.sk-estimator:hover label.sk-toggleable__label-arrow:before {color: black;}#sk-container-id-1 div.sk-toggleable__content {max-height: 0;max-width: 0;overflow: hidden;text-align: left;background-color: #f0f8ff;}#sk-container-id-1 div.sk-toggleable__content pre {margin: 0.2em;color: black;border-radius: 0.25em;background-color: #f0f8ff;}#sk-container-id-1 input.sk-toggleable__control:checked~div.sk-toggleable__content {max-height: 200px;max-width: 100%;overflow: auto;}#sk-container-id-1 input.sk-toggleable__control:checked~label.sk-toggleable__label-arrow:before {content: \"▾\";}#sk-container-id-1 div.sk-estimator input.sk-toggleable__control:checked~label.sk-toggleable__label {background-color: #d4ebff;}#sk-container-id-1 div.sk-label input.sk-toggleable__control:checked~label.sk-toggleable__label {background-color: #d4ebff;}#sk-container-id-1 input.sk-hidden--visually {border: 0;clip: rect(1px 1px 1px 1px);clip: rect(1px, 1px, 1px, 1px);height: 1px;margin: -1px;overflow: hidden;padding: 0;position: absolute;width: 1px;}#sk-container-id-1 div.sk-estimator {font-family: monospace;background-color: #f0f8ff;border: 1px dotted black;border-radius: 0.25em;box-sizing: border-box;margin-bottom: 0.5em;}#sk-container-id-1 div.sk-estimator:hover {background-color: #d4ebff;}#sk-container-id-1 div.sk-parallel-item::after {content: \"\";width: 100%;border-bottom: 1px solid gray;flex-grow: 1;}#sk-container-id-1 div.sk-label:hover label.sk-toggleable__label {background-color: #d4ebff;}#sk-container-id-1 div.sk-serial::before {content: \"\";position: absolute;border-left: 1px solid gray;box-sizing: border-box;top: 0;bottom: 0;left: 50%;z-index: 0;}#sk-container-id-1 div.sk-serial {display: flex;flex-direction: column;align-items: center;background-color: white;padding-right: 0.2em;padding-left: 0.2em;position: relative;}#sk-container-id-1 div.sk-item {position: relative;z-index: 1;}#sk-container-id-1 div.sk-parallel {display: flex;align-items: stretch;justify-content: center;background-color: white;position: relative;}#sk-container-id-1 div.sk-item::before, #sk-container-id-1 div.sk-parallel-item::before {content: \"\";position: absolute;border-left: 1px solid gray;box-sizing: border-box;top: 0;bottom: 0;left: 50%;z-index: -1;}#sk-container-id-1 div.sk-parallel-item {display: flex;flex-direction: column;z-index: 1;position: relative;background-color: white;}#sk-container-id-1 div.sk-parallel-item:first-child::after {align-self: flex-end;width: 50%;}#sk-container-id-1 div.sk-parallel-item:last-child::after {align-self: flex-start;width: 50%;}#sk-container-id-1 div.sk-parallel-item:only-child::after {width: 0;}#sk-container-id-1 div.sk-dashed-wrapped {border: 1px dashed gray;margin: 0 0.4em 0.5em 0.4em;box-sizing: border-box;padding-bottom: 0.4em;background-color: white;}#sk-container-id-1 div.sk-label label {font-family: monospace;font-weight: bold;display: inline-block;line-height: 1.2em;}#sk-container-id-1 div.sk-label-container {text-align: center;}#sk-container-id-1 div.sk-container {/* jupyter's `normalize.less` sets `[hidden] { display: none; }` but bootstrap.min.css set `[hidden] { display: none !important; }` so we also need the `!important` here to be able to override the default hidden behavior on the sphinx rendered scikit-learn.org. See: https://github.com/scikit-learn/scikit-learn/issues/21755 */display: inline-block !important;position: relative;}#sk-container-id-1 div.sk-text-repr-fallback {display: none;}</style><div id=\"sk-container-id-1\" class=\"sk-top-container\"><div class=\"sk-text-repr-fallback\"><pre>LogisticRegression(multi_class=&#x27;multinomial&#x27;)</pre><b>In a Jupyter environment, please rerun this cell to show the HTML representation or trust the notebook. <br />On GitHub, the HTML representation is unable to render, please try loading this page with nbviewer.org.</b></div><div class=\"sk-container\" hidden><div class=\"sk-item\"><div class=\"sk-estimator sk-toggleable\"><input class=\"sk-toggleable__control sk-hidden--visually\" id=\"sk-estimator-id-1\" type=\"checkbox\" checked><label for=\"sk-estimator-id-1\" class=\"sk-toggleable__label sk-toggleable__label-arrow\">LogisticRegression</label><div class=\"sk-toggleable__content\"><pre>LogisticRegression(multi_class=&#x27;multinomial&#x27;)</pre></div></div></div></div></div>"
            ]
          },
          "metadata": {},
          "execution_count": 20
        }
      ],
      "source": [
        "sofmax_clf = LogisticRegression(multi_class=\"multinomial\", solver=\"lbfgs\")\n",
        "sofmax_clf.fit(iris_prepared, y_train) # y_train, not y_train_setosa"
      ]
    },
    {
      "cell_type": "markdown",
      "metadata": {
        "id": "kLsY69xLLk31"
      },
      "source": [
        "<h3><b> Predict values for some data inputs </b></h3>\n"
      ]
    },
    {
      "cell_type": "code",
      "execution_count": 21,
      "metadata": {
        "colab": {
          "base_uri": "https://localhost:8080/"
        },
        "id": "NFMklMFWLk31",
        "outputId": "488a8ff4-5a60-4cec-b936-68a855024f7b"
      },
      "outputs": [
        {
          "output_type": "stream",
          "name": "stdout",
          "text": [
            "[2]\n"
          ]
        }
      ],
      "source": [
        "some_flower = [[5, 3, 1.5, 0.25]]\n",
        "print(sofmax_clf.predict(some_flower))"
      ]
    },
    {
      "cell_type": "markdown",
      "metadata": {
        "id": "bycGllWCLk32"
      },
      "source": [
        "This code trains the SVC on the training set using the original target classes for all flower species(y_train), instead of the Iris-setosa-versus-the-rest target classes (y_train_setosa). Then it makes a prediction.\n",
        "\n",
        "Under the hood, Scikit-Learn actually uses Stochastic Gradient Descent for Logistic Regression (there is no closed form solution).\n",
        "\n",
        "The decision_function() method returns one score per class:"
      ]
    },
    {
      "cell_type": "code",
      "execution_count": 22,
      "metadata": {
        "colab": {
          "base_uri": "https://localhost:8080/"
        },
        "id": "4KGuep_VLk32",
        "outputId": "d7a33732-d617-44ec-91cd-28f3b5a0cd81"
      },
      "outputs": [
        {
          "output_type": "stream",
          "name": "stdout",
          "text": [
            "[[-7.89972943  1.87477346  6.02495596]]\n"
          ]
        }
      ],
      "source": [
        "some_flower_scores = sofmax_clf.decision_function(some_flower)\n",
        "print(some_flower_scores)"
      ]
    },
    {
      "cell_type": "markdown",
      "metadata": {
        "id": "8eACkfabLk32"
      },
      "source": [
        "The highest score is indeed the one corresponding to class 2 (Iris-virginica)."
      ]
    },
    {
      "cell_type": "code",
      "execution_count": 23,
      "metadata": {
        "colab": {
          "base_uri": "https://localhost:8080/"
        },
        "id": "TxVhOI2JLk32",
        "outputId": "0f9e389f-964a-4825-ebc6-f106815f82e0"
      },
      "outputs": [
        {
          "output_type": "stream",
          "name": "stdout",
          "text": [
            "[0 1 2]\n"
          ]
        }
      ],
      "source": [
        "# When a classifier is trained, it stores the list of target classes in its classes_ attribute,\n",
        "# ordered by value. In this case, the index of each class in the classes_ array conveniently\n",
        "# matches the class itself (e.g., the class at index 0 happens to be class 0),\n",
        "# but in general you won’t be so lucky.\n",
        "print(sofmax_clf.classes_)"
      ]
    },
    {
      "cell_type": "markdown",
      "metadata": {
        "id": "agKjSnxELk32"
      },
      "source": [
        "<h3><b> Try other models and measure scores </b></h3>"
      ]
    },
    {
      "cell_type": "markdown",
      "metadata": {
        "id": "XxSk5zUgLk32"
      },
      "source": [
        "Let’s use the Support Vector Machine to train and predict."
      ]
    },
    {
      "cell_type": "code",
      "execution_count": 24,
      "metadata": {
        "colab": {
          "base_uri": "https://localhost:8080/",
          "height": 75
        },
        "id": "oINdlWDLLk32",
        "outputId": "6ee93d5c-d5a6-4afa-86db-73b876b03bd8"
      },
      "outputs": [
        {
          "output_type": "execute_result",
          "data": {
            "text/plain": [
              "SVC(kernel='linear')"
            ],
            "text/html": [
              "<style>#sk-container-id-2 {color: black;background-color: white;}#sk-container-id-2 pre{padding: 0;}#sk-container-id-2 div.sk-toggleable {background-color: white;}#sk-container-id-2 label.sk-toggleable__label {cursor: pointer;display: block;width: 100%;margin-bottom: 0;padding: 0.3em;box-sizing: border-box;text-align: center;}#sk-container-id-2 label.sk-toggleable__label-arrow:before {content: \"▸\";float: left;margin-right: 0.25em;color: #696969;}#sk-container-id-2 label.sk-toggleable__label-arrow:hover:before {color: black;}#sk-container-id-2 div.sk-estimator:hover label.sk-toggleable__label-arrow:before {color: black;}#sk-container-id-2 div.sk-toggleable__content {max-height: 0;max-width: 0;overflow: hidden;text-align: left;background-color: #f0f8ff;}#sk-container-id-2 div.sk-toggleable__content pre {margin: 0.2em;color: black;border-radius: 0.25em;background-color: #f0f8ff;}#sk-container-id-2 input.sk-toggleable__control:checked~div.sk-toggleable__content {max-height: 200px;max-width: 100%;overflow: auto;}#sk-container-id-2 input.sk-toggleable__control:checked~label.sk-toggleable__label-arrow:before {content: \"▾\";}#sk-container-id-2 div.sk-estimator input.sk-toggleable__control:checked~label.sk-toggleable__label {background-color: #d4ebff;}#sk-container-id-2 div.sk-label input.sk-toggleable__control:checked~label.sk-toggleable__label {background-color: #d4ebff;}#sk-container-id-2 input.sk-hidden--visually {border: 0;clip: rect(1px 1px 1px 1px);clip: rect(1px, 1px, 1px, 1px);height: 1px;margin: -1px;overflow: hidden;padding: 0;position: absolute;width: 1px;}#sk-container-id-2 div.sk-estimator {font-family: monospace;background-color: #f0f8ff;border: 1px dotted black;border-radius: 0.25em;box-sizing: border-box;margin-bottom: 0.5em;}#sk-container-id-2 div.sk-estimator:hover {background-color: #d4ebff;}#sk-container-id-2 div.sk-parallel-item::after {content: \"\";width: 100%;border-bottom: 1px solid gray;flex-grow: 1;}#sk-container-id-2 div.sk-label:hover label.sk-toggleable__label {background-color: #d4ebff;}#sk-container-id-2 div.sk-serial::before {content: \"\";position: absolute;border-left: 1px solid gray;box-sizing: border-box;top: 0;bottom: 0;left: 50%;z-index: 0;}#sk-container-id-2 div.sk-serial {display: flex;flex-direction: column;align-items: center;background-color: white;padding-right: 0.2em;padding-left: 0.2em;position: relative;}#sk-container-id-2 div.sk-item {position: relative;z-index: 1;}#sk-container-id-2 div.sk-parallel {display: flex;align-items: stretch;justify-content: center;background-color: white;position: relative;}#sk-container-id-2 div.sk-item::before, #sk-container-id-2 div.sk-parallel-item::before {content: \"\";position: absolute;border-left: 1px solid gray;box-sizing: border-box;top: 0;bottom: 0;left: 50%;z-index: -1;}#sk-container-id-2 div.sk-parallel-item {display: flex;flex-direction: column;z-index: 1;position: relative;background-color: white;}#sk-container-id-2 div.sk-parallel-item:first-child::after {align-self: flex-end;width: 50%;}#sk-container-id-2 div.sk-parallel-item:last-child::after {align-self: flex-start;width: 50%;}#sk-container-id-2 div.sk-parallel-item:only-child::after {width: 0;}#sk-container-id-2 div.sk-dashed-wrapped {border: 1px dashed gray;margin: 0 0.4em 0.5em 0.4em;box-sizing: border-box;padding-bottom: 0.4em;background-color: white;}#sk-container-id-2 div.sk-label label {font-family: monospace;font-weight: bold;display: inline-block;line-height: 1.2em;}#sk-container-id-2 div.sk-label-container {text-align: center;}#sk-container-id-2 div.sk-container {/* jupyter's `normalize.less` sets `[hidden] { display: none; }` but bootstrap.min.css set `[hidden] { display: none !important; }` so we also need the `!important` here to be able to override the default hidden behavior on the sphinx rendered scikit-learn.org. See: https://github.com/scikit-learn/scikit-learn/issues/21755 */display: inline-block !important;position: relative;}#sk-container-id-2 div.sk-text-repr-fallback {display: none;}</style><div id=\"sk-container-id-2\" class=\"sk-top-container\"><div class=\"sk-text-repr-fallback\"><pre>SVC(kernel=&#x27;linear&#x27;)</pre><b>In a Jupyter environment, please rerun this cell to show the HTML representation or trust the notebook. <br />On GitHub, the HTML representation is unable to render, please try loading this page with nbviewer.org.</b></div><div class=\"sk-container\" hidden><div class=\"sk-item\"><div class=\"sk-estimator sk-toggleable\"><input class=\"sk-toggleable__control sk-hidden--visually\" id=\"sk-estimator-id-2\" type=\"checkbox\" checked><label for=\"sk-estimator-id-2\" class=\"sk-toggleable__label sk-toggleable__label-arrow\">SVC</label><div class=\"sk-toggleable__content\"><pre>SVC(kernel=&#x27;linear&#x27;)</pre></div></div></div></div></div>"
            ]
          },
          "metadata": {},
          "execution_count": 24
        }
      ],
      "source": [
        "from sklearn.svm import SVC\n",
        "\n",
        "svm_clf = SVC(kernel=\"linear\")\n",
        "svm_clf.fit(iris_prepared, y_train) # y_train, not y_train_setosa"
      ]
    },
    {
      "cell_type": "markdown",
      "metadata": {
        "id": "bLXQGgI9Lk33"
      },
      "source": [
        "<h3><b> Predict values for some data inputs </b></h3>\n"
      ]
    },
    {
      "cell_type": "code",
      "execution_count": 25,
      "metadata": {
        "colab": {
          "base_uri": "https://localhost:8080/"
        },
        "id": "yB3k90VALk33",
        "outputId": "b7e5a0ac-4726-426f-fb92-4407e8a4bb92"
      },
      "outputs": [
        {
          "output_type": "stream",
          "name": "stdout",
          "text": [
            "[2]\n"
          ]
        }
      ],
      "source": [
        "print(svm_clf.predict(some_flower))"
      ]
    },
    {
      "cell_type": "markdown",
      "metadata": {
        "id": "LpO_gTAyLk33"
      },
      "source": [
        "This code trains the SVC on the training set using the original target classes and then it makes a prediction.\n",
        "\n",
        "Under the hood, Scikit-Learn actually used the OvO strategy: it trained 3 binary classifiers, got their decision scores for the image, and selected the class that won the most duels.\n",
        "\n",
        "The decision_function() method returns 3 scores per instance (instead of just 1). That’s one score per class (it’s the number of won duels plus or minus a small tweak to break ties, based on the binary classifier scores):"
      ]
    },
    {
      "cell_type": "code",
      "execution_count": 26,
      "metadata": {
        "colab": {
          "base_uri": "https://localhost:8080/"
        },
        "id": "1H4syX--Lk33",
        "outputId": "ca54b428-ee39-4d40-947e-73abf1f89227"
      },
      "outputs": [
        {
          "output_type": "stream",
          "name": "stdout",
          "text": [
            "[[-0.29456135  1.2543659   2.27133078]]\n"
          ]
        }
      ],
      "source": [
        "some_flower_scores = svm_clf.decision_function(some_flower)\n",
        "print(some_flower_scores)"
      ]
    },
    {
      "cell_type": "markdown",
      "metadata": {
        "id": "ZxiQ2ZVqLk33"
      },
      "source": [
        "The highest score is indeed the one corresponding to class 2 (Iris-virginica)."
      ]
    },
    {
      "cell_type": "markdown",
      "metadata": {
        "id": "EvvN6ut8Lk34"
      },
      "source": [
        "<h3><b> Try other models and measure scores </b></h3>"
      ]
    },
    {
      "cell_type": "markdown",
      "metadata": {
        "id": "T_p3mdViLk34"
      },
      "source": [
        "The SGDClassifier uses the OvR under the hood for multiclass classification.\n",
        "\n",
        "In this example, since there are 3 classes, it will train 3 binary classifiers. The decision_function() will return one value per class."
      ]
    },
    {
      "cell_type": "code",
      "execution_count": 29,
      "metadata": {
        "colab": {
          "base_uri": "https://localhost:8080/"
        },
        "id": "ZH8ofPlSLk34",
        "outputId": "5cf9b37a-cb2c-4e1b-b086-d79c462f745c"
      },
      "outputs": [
        {
          "output_type": "stream",
          "name": "stdout",
          "text": [
            "[1]\n",
            "[[-67.16273202  28.98108716   7.30926226]]\n",
            "[0.95  0.675 0.775]\n"
          ]
        }
      ],
      "source": [
        "\n",
        "from sklearn.linear_model import SGDClassifier\n",
        "\n",
        "sgd_clf = SGDClassifier()\n",
        "sgd_clf.fit(iris_prepared, y_train)\n",
        "\n",
        "print(sgd_clf.predict(some_flower))\n",
        "print(sgd_clf.decision_function(some_flower))\n",
        "\n",
        "print(cross_val_score(sgd_clf, iris_prepared, y_train, cv=3, scoring=\"accuracy\"))"
      ]
    },
    {
      "cell_type": "markdown",
      "metadata": {
        "id": "ndv-Zw5CLk34"
      },
      "source": [
        "<h3><b> Try other models and measure scores </b></h3>"
      ]
    },
    {
      "cell_type": "markdown",
      "metadata": {
        "id": "KzYVX4-jLk34"
      },
      "source": [
        "Let's try with RandomForest classifier."
      ]
    },
    {
      "cell_type": "code",
      "execution_count": 30,
      "metadata": {
        "colab": {
          "base_uri": "https://localhost:8080/"
        },
        "id": "OnxoK1qZLk34",
        "outputId": "ee7b3ea7-f73e-404f-8c27-4bb512795ef9"
      },
      "outputs": [
        {
          "output_type": "stream",
          "name": "stdout",
          "text": [
            "[2]\n",
            "[[0.02 0.15 0.83]]\n",
            "[0.975 0.95  0.925]\n"
          ]
        }
      ],
      "source": [
        "from sklearn.ensemble import RandomForestClassifier\n",
        "\n",
        "forest_clf = RandomForestClassifier(random_state=42)\n",
        "forest_clf.fit(iris_prepared, y_train)\n",
        "\n",
        "print(forest_clf.predict(some_flower))\n",
        "print(forest_clf.predict_proba(some_flower))\n",
        "\n",
        "print(cross_val_score(forest_clf, iris_prepared, y_train, cv=3, scoring=\"accuracy\"))"
      ]
    },
    {
      "cell_type": "markdown",
      "metadata": {
        "id": "LVkR1n_RLk35"
      },
      "source": [
        "<h3><b> Fine-Tune Your Model </b></h3>\n",
        "\n",
        "Let' assume that you have identified the most promising models and use Grid Search to fine-tune the models."
      ]
    },
    {
      "cell_type": "code",
      "execution_count": 32,
      "metadata": {
        "colab": {
          "base_uri": "https://localhost:8080/"
        },
        "id": "G-D8PlcHLk35",
        "outputId": "ec7461d1-922c-40ae-fba0-86af342117e3"
      },
      "outputs": [
        {
          "output_type": "stream",
          "name": "stdout",
          "text": [
            "{'max_depth': 5, 'max_features': 'sqrt', 'n_estimators': 100}\n"
          ]
        }
      ],
      "source": [
        "param_grid = [\n",
        "    {'n_estimators': [100, 200, 500],\n",
        "        'max_features': ['sqrt', 'log2'],\n",
        "        'max_depth': [5, 7, 10]\n",
        "    },\n",
        "]\n",
        "\n",
        "grid_search = GridSearchCV(forest_clf, param_grid, cv=3)\n",
        "grid_search.fit(iris_prepared, y_train)\n",
        "\n",
        "print(grid_search.best_params_)"
      ]
    },
    {
      "cell_type": "markdown",
      "metadata": {
        "id": "Qzf37fCuLk35"
      },
      "source": [
        "<h3><b> Analyze the Best Models and Their Errors </b></h3>\n",
        "\n",
        "You will often gain good insights on the problem by inspecting the best models.\n",
        "\n",
        "First, look at the confusion matrix. You need to make predictions using the cross_val_predict() function, then call the confusion_matrix() function, just like you did earlier:"
      ]
    },
    {
      "cell_type": "code",
      "execution_count": 33,
      "metadata": {
        "colab": {
          "base_uri": "https://localhost:8080/"
        },
        "id": "4Ibr-eiELk35",
        "outputId": "187e14ee-ad75-40a6-96ee-2971e0fd6d60"
      },
      "outputs": [
        {
          "output_type": "stream",
          "name": "stdout",
          "text": [
            "[[40  0  0]\n",
            " [ 0 38  2]\n",
            " [ 0  4 36]]\n"
          ]
        }
      ],
      "source": [
        "forest_clf = grid_search.best_estimator_\n",
        "\n",
        "y_train_pred = cross_val_predict(forest_clf, iris_prepared, y_train, cv=3)\n",
        "conf_mx = confusion_matrix(y_train, y_train_pred)\n",
        "\n",
        "print(conf_mx)"
      ]
    },
    {
      "cell_type": "markdown",
      "metadata": {
        "id": "9RVSNJ4KLk35"
      },
      "source": [
        "It’s often more convenient to look at an image representation of the confusion matrix, using Matplotlib’s matshow() function:"
      ]
    },
    {
      "cell_type": "code",
      "execution_count": 34,
      "metadata": {
        "colab": {
          "base_uri": "https://localhost:8080/",
          "height": 437
        },
        "id": "r1AYvGtELk35",
        "outputId": "39b39cfc-0628-4aba-a151-60df2356cb55"
      },
      "outputs": [
        {
          "output_type": "display_data",
          "data": {
            "text/plain": [
              "<Figure size 480x480 with 1 Axes>"
            ],
            "image/png": "[encoded data removed]"
          },
          "metadata": {}
        }
      ],
      "source": [
        "plt.matshow(conf_mx, cmap=plt.cm.gray)\n",
        "plt.show()"
      ]
    },
    {
      "cell_type": "markdown",
      "metadata": {
        "id": "4I3z_XFyLk36"
      },
      "source": [
        "This confusion matrix looks pretty good, since most images are on the main diagonal, which means that they were classified correctly. The Iris-versica and Iris-virginicas look slightly darker than the Iris-setosa, which could mean that there are fewer of these in the dataset or that the classifier does not perform as well on these.\n",
        "\n",
        "Let’s focus the plot on the errors. First, you need to divide each value in the confusion matrix by the number of images in the corresponding class so that you can compare error rates instead of absolute numbers of errors (which would make abundant classes look unfairly bad), fill the diagonal with zeros to keep only the errors, and plot the result:"
      ]
    },
    {
      "cell_type": "code",
      "execution_count": 35,
      "metadata": {
        "colab": {
          "base_uri": "https://localhost:8080/",
          "height": 437
        },
        "id": "jVhgFHpiLk36",
        "outputId": "104463ed-4e05-44f4-8f3c-a3fe8b7f69c1"
      },
      "outputs": [
        {
          "output_type": "display_data",
          "data": {
            "text/plain": [
              "<Figure size 480x480 with 1 Axes>"
            ],
            "image/png": "[encoded data removed]"
          },
          "metadata": {}
        }
      ],
      "source": [
        "row_sums = conf_mx.sum(axis=1, keepdims=True)\n",
        "norm_conf_mx = conf_mx / row_sums\n",
        "\n",
        "np.fill_diagonal(norm_conf_mx, 0)\n",
        "plt.matshow(norm_conf_mx, cmap=plt.cm.gray)\n",
        "\n",
        "plt.show()"
      ]
    },
    {
      "cell_type": "markdown",
      "metadata": {
        "id": "dVAlQjZaLk36"
      },
      "source": [
        "<h2 style=\"background-color:rgba(100,100,100,0.5);\"> Evaluate Your System on the Test Set </h2>\n",
        "\n",
        "After tweaking your models for a while, you eventually have a system that performs sufficiently well. Now is the time to evaluate the final model on the test set.\n",
        "\n",
        "There is nothing special about this process; just get the predictors and the labels from your test set, run your full_pipeline to transform the data (call transform(), not fit_transform — you do not want to fit the test set!), and evaluate the final model on the test set.\n"
      ]
    },
    {
      "cell_type": "code",
      "execution_count": 36,
      "metadata": {
        "colab": {
          "base_uri": "https://localhost:8080/"
        },
        "id": "dGZiufvDLk36",
        "outputId": "9f87d436-fd73-4262-f4fe-dc4d7f9fd8cd"
      },
      "outputs": [
        {
          "output_type": "stream",
          "name": "stdout",
          "text": [
            "              precision    recall  f1-score   support\n",
            "\n",
            "           0       1.00      1.00      1.00        10\n",
            "           1       0.90      0.90      0.90        10\n",
            "           2       0.90      0.90      0.90        10\n",
            "\n",
            "    accuracy                           0.93        30\n",
            "   macro avg       0.93      0.93      0.93        30\n",
            "weighted avg       0.93      0.93      0.93        30\n",
            "\n"
          ]
        }
      ],
      "source": [
        "from sklearn.metrics import classification_report\n",
        "\n",
        "final_model =  grid_search.best_estimator_\n",
        "\n",
        "X_test_prepared = num_pipeline.transform(X_test)\n",
        "y_test_pred = final_model.predict(X_test_prepared)\n",
        "\n",
        "print(classification_report(y_test, y_test_pred))"
      ]
    },
    {
      "cell_type": "markdown",
      "metadata": {
        "id": "K4DAA6HOLk37"
      },
      "source": [
        "<h2 style=\"background-color:rgba(100,100,100,0.5);\"> Summary </h2>\n",
        "\n",
        "This exercise demonstrates how to do build a classification model for the Iris data set. This presents an overview of the steps, but does not exhaustively consider all possible different models, nor does it select the best possible hyperparameters but, nevertheless performs reasonably well based on the scores."
      ]
    }
  ],
  "metadata": {
    "interpreter": {
      "hash": "ac59ebe37160ed0dfa835113d9b8498d9f09ceb179beaac4002f036b9467c963"
    },
    "kernelspec": {
      "display_name": "Python 3.9.5 64-bit",
      "name": "python3"
    },
    "language_info": {
      "codemirror_mode": {
        "name": "ipython",
        "version": 3
      },
      "file_extension": ".py",
      "mimetype": "text/x-python",
      "name": "python",
      "nbconvert_exporter": "python",
      "pygments_lexer": "ipython3",
      "version": "3.9.5"
    },
    "orig_nbformat": 4,
    "colab": {
      "provenance": []
    }
  },
  "nbformat": 4,
  "nbformat_minor": 0
}
